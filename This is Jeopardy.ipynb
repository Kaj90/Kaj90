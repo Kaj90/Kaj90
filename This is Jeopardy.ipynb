{
 "cells": [
  {
   "cell_type": "markdown",
   "metadata": {},
   "source": [
    "# This is Jeopardy!"
   ]
  },
  {
   "cell_type": "markdown",
   "metadata": {},
   "source": [
    "#### Overview"
   ]
  },
  {
   "cell_type": "markdown",
   "metadata": {},
   "source": [
    "This project is slightly different than others you have encountered thus far. Instead of a step-by-step tutorial, this project contains a series of open-ended requirements which describe the project you'll be building. There are many possible ways to correctly fulfill all of these requirements, and you should expect to use the internet, Codecademy, and/or other resources when you encounter a problem that you cannot easily solve."
   ]
  },
  {
   "cell_type": "markdown",
   "metadata": {},
   "source": [
    "#### Project Goals"
   ]
  },
  {
   "cell_type": "markdown",
   "metadata": {},
   "source": [
    "You will work to write several functions that investigate a dataset of _Jeopardy!_ questions and answers. Filter the dataset for topics that you're interested in, compute the average difficulty of those questions, and train to become the next Jeopardy champion!"
   ]
  },
  {
   "cell_type": "markdown",
   "metadata": {},
   "source": [
    "## Prerequisites"
   ]
  },
  {
   "cell_type": "markdown",
   "metadata": {},
   "source": [
    "In order to complete this project, you should have completed the Pandas lessons in the <a href=\"https://www.codecademy.com/learn/paths/analyze-data-with-python\">Analyze Data with Python Skill Path</a>. You can also find those lessons in the <a href=\"https://www.codecademy.com/learn/data-processing-pandas\">Data Analysis with Pandas course</a> or the <a href=\"https://www.codecademy.com/learn/paths/data-science/\">Data Scientist Career Path</a>.\n",
    "\n",
    "Finally, the <a href=\"https://www.codecademy.com/learn/practical-data-cleaning\">Practical Data Cleaning</a> course may also be helpful."
   ]
  },
  {
   "cell_type": "markdown",
   "metadata": {},
   "source": [
    "## Project Requirements"
   ]
  },
  {
   "cell_type": "markdown",
   "metadata": {},
   "source": [
    "1. We've provided a csv file containing data about the game show _Jeopardy!_ in a file named `jeopardy.csv`. Load the data into a DataFrame and investigate its contents. Try to print out specific columns.\n",
    "\n",
    "   Note that in order to make this project as \"real-world\" as possible, we haven't modified the data at all - we're giving it to you exactly how we found it. As a result, this data isn't as \"clean\" as the datasets you normally find on Codecademy. More specifically, there's something odd about the column names. After you figure out the problem with the column names, you may want to rename them to make your life easier for the rest of the project.\n",
    "   \n",
    "   In order to display the full contents of a column, we've added this line of code for you:\n",
    "   \n",
    "   ```py\n",
    "   pd.set_option('display.max_colwidth', None)\n",
    "   ```"
   ]
  },
  {
   "cell_type": "code",
   "execution_count": 25,
   "metadata": {},
   "outputs": [
    {
     "name": "stdout",
     "output_type": "stream",
     "text": [
      "Index(['Show Number', ' Air Date', ' Round', ' Category', ' Value',\n",
      "       ' Question', ' Answer'],\n",
      "      dtype='object')\n",
      "0         4680\n",
      "1         4680\n",
      "2         4680\n",
      "3         4680\n",
      "4         4680\n",
      "          ... \n",
      "216925    4999\n",
      "216926    4999\n",
      "216927    4999\n",
      "216928    4999\n",
      "216929    4999\n",
      "Name: Show Number, Length: 216930, dtype: int64\n"
     ]
    }
   ],
   "source": [
    "import pandas as pd\n",
    "pd.set_option('display.max_colwidth', None)\n",
    "\n",
    "jeopardy = pd.read_csv('jeopardy.csv')\n",
    "print(jeopardy.columns)\n",
    "\n",
    "#rankings_pd.rename(columns = {'test':'TEST'}, inplace = True)\n",
    "jeopardy.rename(columns = {' Air Date' : 'Air Date',' Round' : 'Round', ' Category' : 'Category', ' Value' : 'Value',\n",
    "' Question' : 'Question', ' Answer' : 'Answer' }, inplace = True)\n",
    "print(jeopardy['Show Number'])"
   ]
  },
  {
   "cell_type": "markdown",
   "metadata": {},
   "source": [
    "2. Write a function that filters the dataset for questions that contains all of the words in a list of words. For example, when the list `[\"King\", \"England\"]` was passed to our function, the function returned a DataFrame of 49 rows. Every row had the strings `\"King\"` and `\"England\"` somewhere in its `\" Question\"`.\n",
    "\n",
    "   Test your function by printing out the column containing the question of each row of the dataset."
   ]
  },
  {
   "cell_type": "code",
   "execution_count": 2,
   "metadata": {},
   "outputs": [],
   "source": [
    "def filter_by_words(data, words):\n",
    "    filter = lambda x: all(word in x for word in words)\n",
    "    \n",
    "    return data.loc[data['Question'].apply(filter)]\n",
    "\n",
    "#keyword_list = ['King', 'England']\n",
    "#filtered = filter_by_words(jeopardy, ['England', 'King'])\n",
    "\n",
    "#print(filtered.head())"
   ]
  },
  {
   "cell_type": "markdown",
   "metadata": {},
   "source": [
    "3. Test your original function with a few different sets of words to try to find some ways your function breaks. Edit your function so it is more robust.\n",
    "\n",
    "   For example, think about capitalization. We probably want to find questions that contain the word `\"King\"` or `\"king\"`.\n",
    "   \n",
    "   You may also want to check to make sure you don't find rows that contain substrings of your given words. For example, our function found a question that didn't contain the word `\"king\"`, however it did contain the word `\"viking\"` &mdash; it found the `\"king\"` inside `\"viking\"`. Note that this also comes with some drawbacks &mdash; you would no longer find questions that contained words like `\"England's\"`."
   ]
  },
  {
   "cell_type": "code",
   "execution_count": 23,
   "metadata": {},
   "outputs": [
    {
     "name": "stdout",
     "output_type": "stream",
     "text": [
      "      Show Number    Air Date             Round       Category Value  \\\n",
      "56           5957  2010-07-06         Jeopardy!  GEOGRAPHY \"E\"  $200   \n",
      "399          2825  1996-12-06  Double Jeopardy!          POETS  $400   \n",
      "545          3036  1997-11-10         Jeopardy!   ON THE RADIO  $200   \n",
      "811          4335  2003-06-06  Double Jeopardy!    \"S\"-OTERICA  $400   \n",
      "1074         4085  2002-05-10         Jeopardy!   CENTRAL PARK  $400   \n",
      "\n",
      "                                                                                                           Question  \\\n",
      "56                                                                   It's the largest kingdom in the United Kingdom   \n",
      "399                                             Between 1842 & 1885, he repeatedly revised his \"Idylls of the King\"   \n",
      "545                                 Robin Quivers is the radio consort of this self-proclaimed  \"King of All Media\"   \n",
      "811                                  Examples of this TV format include \"Leave It to Beaver\" & \"The King of Queens\"   \n",
      "1074  Central Park has a statue of King Wladyslaw II Jagiello of this country, who was also Grand Duke of Lithuania   \n",
      "\n",
      "                    Answer  Value_int  \n",
      "56                 England      200.0  \n",
      "399   Alfred Lord Tennyson      400.0  \n",
      "545           Howard Stern      200.0  \n",
      "811                 sitcom      400.0  \n",
      "1074                Poland      400.0  \n"
     ]
    }
   ],
   "source": [
    "def filter_by_words_lcase(data, words):\n",
    "    filter = lambda x: all(word.lower() in x.lower() for word in words)\n",
    "    \n",
    "    return data.loc[data['Question'].apply(filter)]\n",
    "\n",
    "#keyword_list = ['America', 'King']\n",
    "#filtered = filter_by_words(jeopardy, ['England', 'King'])\n",
    "\n",
    "#print(filtered.head())"
   ]
  },
  {
   "cell_type": "markdown",
   "metadata": {},
   "source": [
    "4. We may want to eventually compute aggregate statistics, like `.mean()` on the `\" Value\"` column. But right now, the values in that column are strings. Convert the`\" Value\"` column to floats. If you'd like to, you can create a new column with float values.\n",
    "\n",
    "   Now that you can filter the dataset of question, use your new column that contains the float values of each question to find the \"difficulty\" of certain topics. For example, what is the average value of questions that contain the word `\"King\"`?\n",
    "   \n",
    "   Make sure to use the dataset that contains the float values as the dataset you use in your filtering function."
   ]
  },
  {
   "cell_type": "code",
   "execution_count": 7,
   "metadata": {},
   "outputs": [
    {
     "name": "stdout",
     "output_type": "stream",
     "text": [
      "773.4413965087282\n"
     ]
    }
   ],
   "source": [
    "remove_dollar = lambda word: float(word[1:].replace(\",\",'')) if word != 'None' else 0 \n",
    "\n",
    "jeopardy['Value_int'] = jeopardy['Value'].apply(remove_dollar)\n",
    "\n",
    "filtered = filter_by_words(jeopardy, ['King'])\n",
    "avg_value = filtered.Value_int.mean()\n",
    "\n",
    "print(avg_value)"
   ]
  },
  {
   "cell_type": "markdown",
   "metadata": {},
   "source": [
    "5. Write a function that returns the count of unique answers to all of the questions in a dataset. For example, after filtering the entire dataset to only questions containing the word `\"King\"`, we could then find all of the unique answers to those questions. The answer \"Henry VIII\" appeared 55 times and was the most common answer."
   ]
  },
  {
   "cell_type": "code",
   "execution_count": 13,
   "metadata": {},
   "outputs": [
    {
     "name": "stdout",
     "output_type": "stream",
     "text": [
      "56                   England\n",
      "399     Alfred Lord Tennyson\n",
      "545             Howard Stern\n",
      "811                   sitcom\n",
      "1074                  Poland\n",
      "Name: Answer, dtype: object\n",
      "Sweden                               19\n",
      "Scotland                             11\n",
      "Norway                               11\n",
      "Denmark                              10\n",
      "Morocco                              10\n",
      "                                     ..\n",
      "blood poisoning                       1\n",
      "the Hundred Years' War                1\n",
      "Warsaw                                1\n",
      "the May King                          1\n",
      "a pyramid (the pyramids accepted)     1\n",
      "Name: Answer, Length: 1115, dtype: int64\n"
     ]
    },
    {
     "data": {
      "text/plain": [
       "'\\ndef get_answer_counts(data):\\n    return data[\"Answer\"].value_counts()\\n\\n# Testing the answer count function\\nprint(get_answer_counts(filtered))'"
      ]
     },
     "execution_count": 13,
     "metadata": {},
     "output_type": "execute_result"
    }
   ],
   "source": [
    "def unique_answers(data):\n",
    "    print(data['Answer'].head())\n",
    "    return data[\"Answer\"].value_counts()\n",
    "\n",
    "#print(filtered)\n",
    "\n",
    "print(unique_answers(filtered))\n",
    "\n",
    "\"\"\"\n",
    "def get_answer_counts(data):\n",
    "    return data[\"Answer\"].value_counts()\n",
    "\n",
    "# Testing the answer count function\n",
    "print(get_answer_counts(filtered))\"\"\""
   ]
  },
  {
   "cell_type": "markdown",
   "metadata": {},
   "source": [
    "6. Explore from here! This is an incredibly rich dataset, and there are so many interesting things to discover. There are a few columns that we haven't even started looking at yet. Here are some ideas on ways to continue working with this data:\n",
    "\n",
    " * Investigate the ways in which questions change over time by filtering by the date. How many questions from the 90s use the word `\"Computer\"` compared to questions from the 2000s?\n",
    " * Is there a connection between the round and the category? Are you more likely to find certain categories, like `\"Literature\"` in Single Jeopardy or Double Jeopardy?\n",
    " * Build a system to quiz yourself. Grab random questions, and use the <a href=\"https://docs.python.org/3/library/functions.html#input\">input</a> function to get a response from the user. Check to see if that response was right or wrong."
   ]
  },
  {
   "cell_type": "code",
   "execution_count": 10,
   "metadata": {},
   "outputs": [
    {
     "name": "stdout",
     "output_type": "stream",
     "text": [
      "2000s\n"
     ]
    }
   ],
   "source": [
    "jeopardy['Date'] = pd.to_datetime(jeopardy['Air Date'])\n",
    "\n",
    "questions_nineties = jeopardy[(jeopardy['Date'].dt.year >= 1990) & (jeopardy['Date'].dt.year < 2000)]\n",
    "questions_oughts = jeopardy[(jeopardy['Date'].dt.year >= 2000)]\n",
    "#lambda question: question if date \n",
    "\n",
    "list_keywords = ['Computer']\n",
    "nineties_keyword_questions = filter_by_words_lcase(questions_nineties, list_keywords)\n",
    "oughts_keyword_questions = filter_by_words_lcase(questions_oughts, list_keywords)\n",
    "\n",
    "nineties_or_oughts = lambda x, y: '90s' if x > y else '2000s'\n",
    "\n",
    "print(nineties_or_oughts(nineties_keyword_questions['Show Number'].count(), oughts_keyword_questions['Show Number'].count()))"
   ]
  },
  {
   "cell_type": "markdown",
   "metadata": {},
   "source": [
    "## Solution"
   ]
  },
  {
   "cell_type": "markdown",
   "metadata": {},
   "source": [
    "7. Compare your program to our <a href=\"https://content.codecademy.com/PRO/independent-practice-projects/jeopardy/jeopardy_solution.zip\">sample solution code</a> - remember, that your program might look different from ours (and probably will) and that's okay!"
   ]
  },
  {
   "cell_type": "markdown",
   "metadata": {},
   "source": [
    "8. Great work! Visit <a href=\"https://discuss.codecademy.com/t/this-is-jeopardy-challenge-project-python-pandas/462365\">our forums</a> to compare your project to our sample solution code. You can also learn how to host your own solution on GitHub so you can share it with other learners! Your solution might look different from ours, and that's okay! There are multiple ways to solve these projects, and you'll learn more by seeing others' code."
   ]
  },
  {
   "cell_type": "code",
   "execution_count": 22,
   "metadata": {
    "scrolled": true
   },
   "outputs": [
    {
     "name": "stdout",
     "output_type": "stream",
     "text": [
      "7.085714285714285\n",
      "7.266190998902305\n"
     ]
    }
   ],
   "source": [
    "def category_count(data, _round):\n",
    "    round_df = data[data['Round'] == _round]\n",
    "    category_count = round_df['Category'].value_counts()\n",
    "    return category_count\n",
    "\n",
    "round_one_categories = category_count(jeopardy, 'Jeopardy!')\n",
    "round_two_categories = category_count(jeopardy, 'Double Jeopardy!')\n",
    "print(round_one_categories.mean())\n",
    "print(round_two_categories.mean())"
   ]
  },
  {
   "cell_type": "code",
   "execution_count": 30,
   "metadata": {},
   "outputs": [
    {
     "name": "stdout",
     "output_type": "stream",
     "text": [
      "He & his men were driven from the Aztec capital one night in 1520, but returned to capture it a year later?\n",
      "Cortez\n",
      "Sorry, the right answer is: Hernando Cortes\n"
     ]
    }
   ],
   "source": [
    "import random\n",
    "\n",
    "\n",
    "def get_random_question(data):\n",
    "    show_number = random.randrange(0,216929)\n",
    "    question = data.loc[show_number]['Question']\n",
    "    print(question + \"?\")\n",
    "    user_answer = input()\n",
    "    real_answer = data.loc[show_number]['Answer']\n",
    "    if user_answer == real_answer:\n",
    "        print('Correct!')\n",
    "    else:\n",
    "        print('Sorry, the right answer is: ' + real_answer )\n",
    " \n",
    "get_random_question(jeopardy)\n",
    "\n"
   ]
  },
  {
   "cell_type": "code",
   "execution_count": null,
   "metadata": {},
   "outputs": [],
   "source": []
  }
 ],
 "metadata": {
  "kernelspec": {
   "display_name": "Python 3 (ipykernel)",
   "language": "python",
   "name": "python3"
  },
  "language_info": {
   "codemirror_mode": {
    "name": "ipython",
    "version": 3
   },
   "file_extension": ".py",
   "mimetype": "text/x-python",
   "name": "python",
   "nbconvert_exporter": "python",
   "pygments_lexer": "ipython3",
   "version": "3.10.9"
  }
 },
 "nbformat": 4,
 "nbformat_minor": 2
}
